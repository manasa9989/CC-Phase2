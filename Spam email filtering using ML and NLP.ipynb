{
 "cells": [
  {
   "cell_type": "code",
   "execution_count": 65,
   "id": "9df87fea",
   "metadata": {},
   "outputs": [],
   "source": [
    "import pandas as pd\n",
    "import numpy as np\n",
    "import matplotlib.pyplot as plt\n",
    "import seaborn as sns\n",
    "from sklearn.model_selection import train_test_split, cross_val_score\n",
    "from sklearn.feature_extraction.text import TfidfVectorizer\n",
    "from sklearn.naive_bayes import MultinomialNB\n",
    "from sklearn.linear_model import LogisticRegression\n",
    "from sklearn.svm import SVC\n",
    "from sklearn.ensemble import RandomForestClassifier\n",
    "from sklearn.metrics import accuracy_score, precision_score, recall_score, f1_score\n",
    "import string\n",
    "import re\n",
    "from nltk.corpus import stopwords\n",
    "from nltk.stem import SnowballStemmer\n",
    "import nltk\n",
    "from nltk.stem import PorterStemmer"
   ]
  },
  {
   "cell_type": "markdown",
   "id": "417ce7bc",
   "metadata": {},
   "source": [
    "# READING DATASETS"
   ]
  },
  {
   "cell_type": "code",
   "execution_count": 3,
   "id": "6353de77",
   "metadata": {},
   "outputs": [],
   "source": [
    "email_data = pd.read_csv('C:/Users/Data Analysisp2.2/emails.csv.zip', compression=\"zip\")"
   ]
  },
  {
   "cell_type": "code",
   "execution_count": 4,
   "id": "8080971b",
   "metadata": {},
   "outputs": [
    {
     "data": {
      "text/html": [
       "<div>\n",
       "<style scoped>\n",
       "    .dataframe tbody tr th:only-of-type {\n",
       "        vertical-align: middle;\n",
       "    }\n",
       "\n",
       "    .dataframe tbody tr th {\n",
       "        vertical-align: top;\n",
       "    }\n",
       "\n",
       "    .dataframe thead th {\n",
       "        text-align: right;\n",
       "    }\n",
       "</style>\n",
       "<table border=\"1\" class=\"dataframe\">\n",
       "  <thead>\n",
       "    <tr style=\"text-align: right;\">\n",
       "      <th></th>\n",
       "      <th>text</th>\n",
       "      <th>spam</th>\n",
       "    </tr>\n",
       "  </thead>\n",
       "  <tbody>\n",
       "    <tr>\n",
       "      <th>0</th>\n",
       "      <td>Subject: naturally irresistible your corporate...</td>\n",
       "      <td>1</td>\n",
       "    </tr>\n",
       "    <tr>\n",
       "      <th>1</th>\n",
       "      <td>Subject: the stock trading gunslinger  fanny i...</td>\n",
       "      <td>1</td>\n",
       "    </tr>\n",
       "    <tr>\n",
       "      <th>2</th>\n",
       "      <td>Subject: unbelievable new homes made easy  im ...</td>\n",
       "      <td>1</td>\n",
       "    </tr>\n",
       "    <tr>\n",
       "      <th>3</th>\n",
       "      <td>Subject: 4 color printing special  request add...</td>\n",
       "      <td>1</td>\n",
       "    </tr>\n",
       "    <tr>\n",
       "      <th>4</th>\n",
       "      <td>Subject: do not have money , get software cds ...</td>\n",
       "      <td>1</td>\n",
       "    </tr>\n",
       "  </tbody>\n",
       "</table>\n",
       "</div>"
      ],
      "text/plain": [
       "                                                text  spam\n",
       "0  Subject: naturally irresistible your corporate...     1\n",
       "1  Subject: the stock trading gunslinger  fanny i...     1\n",
       "2  Subject: unbelievable new homes made easy  im ...     1\n",
       "3  Subject: 4 color printing special  request add...     1\n",
       "4  Subject: do not have money , get software cds ...     1"
      ]
     },
     "execution_count": 4,
     "metadata": {},
     "output_type": "execute_result"
    }
   ],
   "source": [
    "email_data.head()"
   ]
  },
  {
   "cell_type": "code",
   "execution_count": 5,
   "id": "c714366c",
   "metadata": {},
   "outputs": [
    {
     "data": {
      "text/html": [
       "<div>\n",
       "<style scoped>\n",
       "    .dataframe tbody tr th:only-of-type {\n",
       "        vertical-align: middle;\n",
       "    }\n",
       "\n",
       "    .dataframe tbody tr th {\n",
       "        vertical-align: top;\n",
       "    }\n",
       "\n",
       "    .dataframe thead th {\n",
       "        text-align: right;\n",
       "    }\n",
       "</style>\n",
       "<table border=\"1\" class=\"dataframe\">\n",
       "  <thead>\n",
       "    <tr style=\"text-align: right;\">\n",
       "      <th></th>\n",
       "      <th>text</th>\n",
       "      <th>spam</th>\n",
       "    </tr>\n",
       "  </thead>\n",
       "  <tbody>\n",
       "    <tr>\n",
       "      <th>5723</th>\n",
       "      <td>Subject: re : research and development charges...</td>\n",
       "      <td>0</td>\n",
       "    </tr>\n",
       "    <tr>\n",
       "      <th>5724</th>\n",
       "      <td>Subject: re : receipts from visit  jim ,  than...</td>\n",
       "      <td>0</td>\n",
       "    </tr>\n",
       "    <tr>\n",
       "      <th>5725</th>\n",
       "      <td>Subject: re : enron case study update  wow ! a...</td>\n",
       "      <td>0</td>\n",
       "    </tr>\n",
       "    <tr>\n",
       "      <th>5726</th>\n",
       "      <td>Subject: re : interest  david ,  please , call...</td>\n",
       "      <td>0</td>\n",
       "    </tr>\n",
       "    <tr>\n",
       "      <th>5727</th>\n",
       "      <td>Subject: news : aurora 5 . 2 update  aurora ve...</td>\n",
       "      <td>0</td>\n",
       "    </tr>\n",
       "  </tbody>\n",
       "</table>\n",
       "</div>"
      ],
      "text/plain": [
       "                                                   text  spam\n",
       "5723  Subject: re : research and development charges...     0\n",
       "5724  Subject: re : receipts from visit  jim ,  than...     0\n",
       "5725  Subject: re : enron case study update  wow ! a...     0\n",
       "5726  Subject: re : interest  david ,  please , call...     0\n",
       "5727  Subject: news : aurora 5 . 2 update  aurora ve...     0"
      ]
     },
     "execution_count": 5,
     "metadata": {},
     "output_type": "execute_result"
    }
   ],
   "source": [
    "email_data.tail()"
   ]
  },
  {
   "cell_type": "code",
   "execution_count": 21,
   "id": "e8c90d52",
   "metadata": {},
   "outputs": [
    {
     "data": {
      "text/plain": [
       "(5726, 3)"
      ]
     },
     "execution_count": 21,
     "metadata": {},
     "output_type": "execute_result"
    }
   ],
   "source": [
    "email_data.shape"
   ]
  },
  {
   "cell_type": "markdown",
   "id": "3494963d",
   "metadata": {},
   "source": [
    "there are total 5727 rows ans 2 columns"
   ]
  },
  {
   "cell_type": "code",
   "execution_count": 6,
   "id": "ea5998c8",
   "metadata": {},
   "outputs": [
    {
     "name": "stdout",
     "output_type": "stream",
     "text": [
      "<class 'pandas.core.frame.DataFrame'>\n",
      "RangeIndex: 5728 entries, 0 to 5727\n",
      "Data columns (total 2 columns):\n",
      " #   Column  Non-Null Count  Dtype \n",
      "---  ------  --------------  ----- \n",
      " 0   text    5728 non-null   object\n",
      " 1   spam    5728 non-null   int64 \n",
      "dtypes: int64(1), object(1)\n",
      "memory usage: 89.6+ KB\n"
     ]
    }
   ],
   "source": [
    "email_data.info()"
   ]
  },
  {
   "cell_type": "code",
   "execution_count": 7,
   "id": "e07761da",
   "metadata": {},
   "outputs": [
    {
     "data": {
      "text/plain": [
       "Index(['text', 'spam'], dtype='object')"
      ]
     },
     "execution_count": 7,
     "metadata": {},
     "output_type": "execute_result"
    }
   ],
   "source": [
    "email_data.columns"
   ]
  },
  {
   "cell_type": "markdown",
   "id": "0e8a5663",
   "metadata": {},
   "source": [
    "# CLEANING "
   ]
  },
  {
   "cell_type": "code",
   "execution_count": 29,
   "id": "b7bed6ab",
   "metadata": {},
   "outputs": [
    {
     "name": "stderr",
     "output_type": "stream",
     "text": [
      "[nltk_data] Downloading package stopwords to\n",
      "[nltk_data]     C:\\Users\\sri\\AppData\\Roaming\\nltk_data...\n",
      "[nltk_data]   Package stopwords is already up-to-date!\n"
     ]
    }
   ],
   "source": [
    "nltk.download('stopwords')\n",
    "stemmer = SnowballStemmer('english')\n",
    "stop_words = stopwords.words('english')"
   ]
  },
  {
   "cell_type": "code",
   "execution_count": 8,
   "id": "86da514e",
   "metadata": {},
   "outputs": [],
   "source": [
    "def clean_text(text):\n",
    "    text = re.sub(r'^Subject:\\s*', '', text, flags=re.IGNORECASE)\n",
    "    text = text.lower()  \n",
    "    text = re.sub(r'\\[.*?\\]', '', text)  \n",
    "    text = re.sub(r'https?://\\S+|www\\.\\S+', '', text)  \n",
    "    text = re.sub(r'<.*?>+', '', text) \n",
    "    text = re.sub(r'[%s]' % re.escape(string.punctuation), '', text) \n",
    "    text = re.sub(r'\\n', '', text)  \n",
    "    text = re.sub(r'\\w*\\d\\w*', '', text)  \n",
    "    return text\n",
    "\n",
    "email_data['text'] = email_data['text'].apply(clean_text)\n",
    "\n"
   ]
  },
  {
   "cell_type": "code",
   "execution_count": 9,
   "id": "a7e0396a",
   "metadata": {},
   "outputs": [
    {
     "data": {
      "text/html": [
       "<div>\n",
       "<style scoped>\n",
       "    .dataframe tbody tr th:only-of-type {\n",
       "        vertical-align: middle;\n",
       "    }\n",
       "\n",
       "    .dataframe tbody tr th {\n",
       "        vertical-align: top;\n",
       "    }\n",
       "\n",
       "    .dataframe thead th {\n",
       "        text-align: right;\n",
       "    }\n",
       "</style>\n",
       "<table border=\"1\" class=\"dataframe\">\n",
       "  <thead>\n",
       "    <tr style=\"text-align: right;\">\n",
       "      <th></th>\n",
       "      <th>text</th>\n",
       "      <th>spam</th>\n",
       "    </tr>\n",
       "  </thead>\n",
       "  <tbody>\n",
       "    <tr>\n",
       "      <th>0</th>\n",
       "      <td>naturally irresistible your corporate identity...</td>\n",
       "      <td>1</td>\n",
       "    </tr>\n",
       "    <tr>\n",
       "      <th>1</th>\n",
       "      <td>the stock trading gunslinger  fanny is merrill...</td>\n",
       "      <td>1</td>\n",
       "    </tr>\n",
       "    <tr>\n",
       "      <th>2</th>\n",
       "      <td>unbelievable new homes made easy  im wanting t...</td>\n",
       "      <td>1</td>\n",
       "    </tr>\n",
       "    <tr>\n",
       "      <th>3</th>\n",
       "      <td>color printing special  request additional in...</td>\n",
       "      <td>1</td>\n",
       "    </tr>\n",
       "    <tr>\n",
       "      <th>4</th>\n",
       "      <td>do not have money  get software cds from here ...</td>\n",
       "      <td>1</td>\n",
       "    </tr>\n",
       "  </tbody>\n",
       "</table>\n",
       "</div>"
      ],
      "text/plain": [
       "                                                text  spam\n",
       "0  naturally irresistible your corporate identity...     1\n",
       "1  the stock trading gunslinger  fanny is merrill...     1\n",
       "2  unbelievable new homes made easy  im wanting t...     1\n",
       "3   color printing special  request additional in...     1\n",
       "4  do not have money  get software cds from here ...     1"
      ]
     },
     "execution_count": 9,
     "metadata": {},
     "output_type": "execute_result"
    }
   ],
   "source": [
    "email_data.head()"
   ]
  },
  {
   "cell_type": "markdown",
   "id": "802e43db",
   "metadata": {},
   "source": [
    "Finding missing values"
   ]
  },
  {
   "cell_type": "code",
   "execution_count": 11,
   "id": "471e2984",
   "metadata": {},
   "outputs": [],
   "source": [
    "missing_values = email_data.isnull().sum()"
   ]
  },
  {
   "cell_type": "code",
   "execution_count": 12,
   "id": "35603b1b",
   "metadata": {},
   "outputs": [
    {
     "data": {
      "text/plain": [
       "Series([], dtype: int64)"
      ]
     },
     "execution_count": 12,
     "metadata": {},
     "output_type": "execute_result"
    }
   ],
   "source": [
    "missing_values[missing_values > 0]"
   ]
  },
  {
   "cell_type": "markdown",
   "id": "2f60119f",
   "metadata": {},
   "source": [
    "# Finding duplicate values"
   ]
  },
  {
   "cell_type": "code",
   "execution_count": 13,
   "id": "226f3c79",
   "metadata": {},
   "outputs": [],
   "source": [
    "duplicate_rows = email_data.duplicated().sum()"
   ]
  },
  {
   "cell_type": "code",
   "execution_count": 14,
   "id": "ede1011d",
   "metadata": {},
   "outputs": [],
   "source": [
    "#length of the text\n",
    "email_data['text_length'] = email_data['text'].apply(len)"
   ]
  },
  {
   "cell_type": "code",
   "execution_count": 15,
   "id": "d383d0be",
   "metadata": {},
   "outputs": [
    {
     "data": {
      "text/html": [
       "<div>\n",
       "<style scoped>\n",
       "    .dataframe tbody tr th:only-of-type {\n",
       "        vertical-align: middle;\n",
       "    }\n",
       "\n",
       "    .dataframe tbody tr th {\n",
       "        vertical-align: top;\n",
       "    }\n",
       "\n",
       "    .dataframe thead th {\n",
       "        text-align: right;\n",
       "    }\n",
       "</style>\n",
       "<table border=\"1\" class=\"dataframe\">\n",
       "  <thead>\n",
       "    <tr style=\"text-align: right;\">\n",
       "      <th></th>\n",
       "      <th>text</th>\n",
       "      <th>spam</th>\n",
       "      <th>text_length</th>\n",
       "    </tr>\n",
       "  </thead>\n",
       "  <tbody>\n",
       "    <tr>\n",
       "      <th>0</th>\n",
       "      <td>naturally irresistible your corporate identity...</td>\n",
       "      <td>1</td>\n",
       "      <td>1337</td>\n",
       "    </tr>\n",
       "    <tr>\n",
       "      <th>1</th>\n",
       "      <td>the stock trading gunslinger  fanny is merrill...</td>\n",
       "      <td>1</td>\n",
       "      <td>589</td>\n",
       "    </tr>\n",
       "    <tr>\n",
       "      <th>2</th>\n",
       "      <td>unbelievable new homes made easy  im wanting t...</td>\n",
       "      <td>1</td>\n",
       "      <td>422</td>\n",
       "    </tr>\n",
       "    <tr>\n",
       "      <th>3</th>\n",
       "      <td>color printing special  request additional in...</td>\n",
       "      <td>1</td>\n",
       "      <td>437</td>\n",
       "    </tr>\n",
       "    <tr>\n",
       "      <th>4</th>\n",
       "      <td>do not have money  get software cds from here ...</td>\n",
       "      <td>1</td>\n",
       "      <td>214</td>\n",
       "    </tr>\n",
       "  </tbody>\n",
       "</table>\n",
       "</div>"
      ],
      "text/plain": [
       "                                                text  spam  text_length\n",
       "0  naturally irresistible your corporate identity...     1         1337\n",
       "1  the stock trading gunslinger  fanny is merrill...     1          589\n",
       "2  unbelievable new homes made easy  im wanting t...     1          422\n",
       "3   color printing special  request additional in...     1          437\n",
       "4  do not have money  get software cds from here ...     1          214"
      ]
     },
     "execution_count": 15,
     "metadata": {},
     "output_type": "execute_result"
    }
   ],
   "source": [
    "email_data.head()"
   ]
  },
  {
   "cell_type": "code",
   "execution_count": 20,
   "id": "e2e0eb53",
   "metadata": {},
   "outputs": [
    {
     "data": {
      "text/plain": [
       "42"
      ]
     },
     "execution_count": 20,
     "metadata": {},
     "output_type": "execute_result"
    }
   ],
   "source": [
    "email_data.duplicated().sum()"
   ]
  },
  {
   "cell_type": "code",
   "execution_count": 23,
   "id": "7272d737",
   "metadata": {},
   "outputs": [
    {
     "data": {
      "text/html": [
       "<div>\n",
       "<style scoped>\n",
       "    .dataframe tbody tr th:only-of-type {\n",
       "        vertical-align: middle;\n",
       "    }\n",
       "\n",
       "    .dataframe tbody tr th {\n",
       "        vertical-align: top;\n",
       "    }\n",
       "\n",
       "    .dataframe thead th {\n",
       "        text-align: right;\n",
       "    }\n",
       "</style>\n",
       "<table border=\"1\" class=\"dataframe\">\n",
       "  <thead>\n",
       "    <tr style=\"text-align: right;\">\n",
       "      <th></th>\n",
       "      <th>text</th>\n",
       "      <th>spam</th>\n",
       "      <th>text_length</th>\n",
       "    </tr>\n",
       "  </thead>\n",
       "  <tbody>\n",
       "    <tr>\n",
       "      <th>663</th>\n",
       "      <td>returned mail  see transcript for details  the...</td>\n",
       "      <td>1</td>\n",
       "      <td>263</td>\n",
       "    </tr>\n",
       "    <tr>\n",
       "      <th>1417</th>\n",
       "      <td>day off tuesday  stinson   i would like to tak...</td>\n",
       "      <td>0</td>\n",
       "      <td>223</td>\n",
       "    </tr>\n",
       "    <tr>\n",
       "      <th>1508</th>\n",
       "      <td>re  enron weather research  good afternoon mik...</td>\n",
       "      <td>0</td>\n",
       "      <td>1410</td>\n",
       "    </tr>\n",
       "    <tr>\n",
       "      <th>1532</th>\n",
       "      <td>schedule and more    dr  kaminski   i think i ...</td>\n",
       "      <td>0</td>\n",
       "      <td>1557</td>\n",
       "    </tr>\n",
       "    <tr>\n",
       "      <th>1667</th>\n",
       "      <td>re  summer work    jinbaek   this is a project...</td>\n",
       "      <td>0</td>\n",
       "      <td>3235</td>\n",
       "    </tr>\n",
       "    <tr>\n",
       "      <th>1749</th>\n",
       "      <td>term paper  dr  kaminski   attached please fin...</td>\n",
       "      <td>0</td>\n",
       "      <td>176</td>\n",
       "    </tr>\n",
       "    <tr>\n",
       "      <th>1760</th>\n",
       "      <td>re  new business  h  lyette   i am working sys...</td>\n",
       "      <td>0</td>\n",
       "      <td>713</td>\n",
       "    </tr>\n",
       "    <tr>\n",
       "      <th>1791</th>\n",
       "      <td>re  contact info  glenn   please  contact rudi...</td>\n",
       "      <td>0</td>\n",
       "      <td>1393</td>\n",
       "    </tr>\n",
       "    <tr>\n",
       "      <th>1801</th>\n",
       "      <td>departure of grant masson  the research group ...</td>\n",
       "      <td>0</td>\n",
       "      <td>714</td>\n",
       "    </tr>\n",
       "    <tr>\n",
       "      <th>1828</th>\n",
       "      <td>re  term project   brian   no problem   vince ...</td>\n",
       "      <td>0</td>\n",
       "      <td>2484</td>\n",
       "    </tr>\n",
       "    <tr>\n",
       "      <th>1881</th>\n",
       "      <td>research allocations to egm  hi becky   vince ...</td>\n",
       "      <td>0</td>\n",
       "      <td>261</td>\n",
       "    </tr>\n",
       "    <tr>\n",
       "      <th>1963</th>\n",
       "      <td>re  schedule and more    jinbaek   may  sounds...</td>\n",
       "      <td>0</td>\n",
       "      <td>1950</td>\n",
       "    </tr>\n",
       "    <tr>\n",
       "      <th>2179</th>\n",
       "      <td>request submitted  access request for tony  ha...</td>\n",
       "      <td>0</td>\n",
       "      <td>416</td>\n",
       "    </tr>\n",
       "    <tr>\n",
       "      <th>2188</th>\n",
       "      <td>tiger evals  attachment  tiger hosts   i under...</td>\n",
       "      <td>0</td>\n",
       "      <td>548</td>\n",
       "    </tr>\n",
       "    <tr>\n",
       "      <th>2297</th>\n",
       "      <td>telephone interview with the enron research gr...</td>\n",
       "      <td>0</td>\n",
       "      <td>784</td>\n",
       "    </tr>\n",
       "    <tr>\n",
       "      <th>2308</th>\n",
       "      <td>re  get together this coming tuesday   dale   ...</td>\n",
       "      <td>0</td>\n",
       "      <td>3133</td>\n",
       "    </tr>\n",
       "    <tr>\n",
       "      <th>2449</th>\n",
       "      <td>re  your mail  zhendong   dr  kaminski called ...</td>\n",
       "      <td>0</td>\n",
       "      <td>557</td>\n",
       "    </tr>\n",
       "    <tr>\n",
       "      <th>2497</th>\n",
       "      <td>re   frank   yes   vince  from  frank hayden  ...</td>\n",
       "      <td>0</td>\n",
       "      <td>213</td>\n",
       "    </tr>\n",
       "    <tr>\n",
       "      <th>2498</th>\n",
       "      <td>re  weather and energy price data  mulong   we...</td>\n",
       "      <td>0</td>\n",
       "      <td>1414</td>\n",
       "    </tr>\n",
       "    <tr>\n",
       "      <th>2524</th>\n",
       "      <td>re  grades  pam   the students resent the docu...</td>\n",
       "      <td>0</td>\n",
       "      <td>284</td>\n",
       "    </tr>\n",
       "    <tr>\n",
       "      <th>2633</th>\n",
       "      <td>re  argentina power  gas market modelling  oka...</td>\n",
       "      <td>0</td>\n",
       "      <td>3037</td>\n",
       "    </tr>\n",
       "    <tr>\n",
       "      <th>2822</th>\n",
       "      <td>re  willow and pathstar evaluations  mike   we...</td>\n",
       "      <td>0</td>\n",
       "      <td>699</td>\n",
       "    </tr>\n",
       "    <tr>\n",
       "      <th>2824</th>\n",
       "      <td>request submitted  access request for anita  d...</td>\n",
       "      <td>0</td>\n",
       "      <td>418</td>\n",
       "    </tr>\n",
       "    <tr>\n",
       "      <th>2973</th>\n",
       "      <td>re  i am zhendong  zhendong   thanks  please  ...</td>\n",
       "      <td>0</td>\n",
       "      <td>854</td>\n",
       "    </tr>\n",
       "    <tr>\n",
       "      <th>3002</th>\n",
       "      <td>re  eprm  houston  layla   my associate  s nam...</td>\n",
       "      <td>0</td>\n",
       "      <td>2885</td>\n",
       "    </tr>\n",
       "    <tr>\n",
       "      <th>3088</th>\n",
       "      <td>hello from enron  dear dr  mcmullen   a few we...</td>\n",
       "      <td>0</td>\n",
       "      <td>566</td>\n",
       "    </tr>\n",
       "    <tr>\n",
       "      <th>3154</th>\n",
       "      <td>your approval is overdue  access request for  ...</td>\n",
       "      <td>0</td>\n",
       "      <td>360</td>\n",
       "    </tr>\n",
       "    <tr>\n",
       "      <th>3165</th>\n",
       "      <td>special notification  aurora version    relea...</td>\n",
       "      <td>0</td>\n",
       "      <td>2252</td>\n",
       "    </tr>\n",
       "    <tr>\n",
       "      <th>3241</th>\n",
       "      <td>research get  together at sandeep kohli  s new...</td>\n",
       "      <td>0</td>\n",
       "      <td>142</td>\n",
       "    </tr>\n",
       "    <tr>\n",
       "      <th>3282</th>\n",
       "      <td>phone time  dear dr  kaminski  thanks for your...</td>\n",
       "      <td>0</td>\n",
       "      <td>427</td>\n",
       "    </tr>\n",
       "    <tr>\n",
       "      <th>3302</th>\n",
       "      <td>term project   this is the list of projects fo...</td>\n",
       "      <td>0</td>\n",
       "      <td>556</td>\n",
       "    </tr>\n",
       "    <tr>\n",
       "      <th>3344</th>\n",
       "      <td>re  enron visit   thanks  larry   i was thinki...</td>\n",
       "      <td>0</td>\n",
       "      <td>1117</td>\n",
       "    </tr>\n",
       "    <tr>\n",
       "      <th>3932</th>\n",
       "      <td>request submitted  access request for anita  d...</td>\n",
       "      <td>0</td>\n",
       "      <td>418</td>\n",
       "    </tr>\n",
       "    <tr>\n",
       "      <th>3987</th>\n",
       "      <td>re  interviews  vince   no problem  i know hr ...</td>\n",
       "      <td>0</td>\n",
       "      <td>1716</td>\n",
       "    </tr>\n",
       "    <tr>\n",
       "      <th>4000</th>\n",
       "      <td>re  weather and energy price data  mulong wang...</td>\n",
       "      <td>0</td>\n",
       "      <td>2351</td>\n",
       "    </tr>\n",
       "    <tr>\n",
       "      <th>4168</th>\n",
       "      <td>vp  director count for the research group  hel...</td>\n",
       "      <td>0</td>\n",
       "      <td>750</td>\n",
       "    </tr>\n",
       "    <tr>\n",
       "      <th>4259</th>\n",
       "      <td>retail markets conference  i would like to inv...</td>\n",
       "      <td>0</td>\n",
       "      <td>1805</td>\n",
       "    </tr>\n",
       "    <tr>\n",
       "      <th>4346</th>\n",
       "      <td>re  grades  pam   another group   stuart hamel...</td>\n",
       "      <td>0</td>\n",
       "      <td>409</td>\n",
       "    </tr>\n",
       "    <tr>\n",
       "      <th>4366</th>\n",
       "      <td>request submitted  access request for anita  d...</td>\n",
       "      <td>0</td>\n",
       "      <td>418</td>\n",
       "    </tr>\n",
       "    <tr>\n",
       "      <th>4399</th>\n",
       "      <td>request submitted  access request for anita  d...</td>\n",
       "      <td>0</td>\n",
       "      <td>418</td>\n",
       "    </tr>\n",
       "    <tr>\n",
       "      <th>4481</th>\n",
       "      <td>june    retail electricity conference  dear wo...</td>\n",
       "      <td>0</td>\n",
       "      <td>1349</td>\n",
       "    </tr>\n",
       "    <tr>\n",
       "      <th>5294</th>\n",
       "      <td>re  pserc industrial advisory board meeting in...</td>\n",
       "      <td>0</td>\n",
       "      <td>1548</td>\n",
       "    </tr>\n",
       "  </tbody>\n",
       "</table>\n",
       "</div>"
      ],
      "text/plain": [
       "                                                   text  spam  text_length\n",
       "663   returned mail  see transcript for details  the...     1          263\n",
       "1417  day off tuesday  stinson   i would like to tak...     0          223\n",
       "1508  re  enron weather research  good afternoon mik...     0         1410\n",
       "1532  schedule and more    dr  kaminski   i think i ...     0         1557\n",
       "1667  re  summer work    jinbaek   this is a project...     0         3235\n",
       "1749  term paper  dr  kaminski   attached please fin...     0          176\n",
       "1760  re  new business  h  lyette   i am working sys...     0          713\n",
       "1791  re  contact info  glenn   please  contact rudi...     0         1393\n",
       "1801  departure of grant masson  the research group ...     0          714\n",
       "1828  re  term project   brian   no problem   vince ...     0         2484\n",
       "1881  research allocations to egm  hi becky   vince ...     0          261\n",
       "1963  re  schedule and more    jinbaek   may  sounds...     0         1950\n",
       "2179  request submitted  access request for tony  ha...     0          416\n",
       "2188  tiger evals  attachment  tiger hosts   i under...     0          548\n",
       "2297  telephone interview with the enron research gr...     0          784\n",
       "2308  re  get together this coming tuesday   dale   ...     0         3133\n",
       "2449  re  your mail  zhendong   dr  kaminski called ...     0          557\n",
       "2497  re   frank   yes   vince  from  frank hayden  ...     0          213\n",
       "2498  re  weather and energy price data  mulong   we...     0         1414\n",
       "2524  re  grades  pam   the students resent the docu...     0          284\n",
       "2633  re  argentina power  gas market modelling  oka...     0         3037\n",
       "2822  re  willow and pathstar evaluations  mike   we...     0          699\n",
       "2824  request submitted  access request for anita  d...     0          418\n",
       "2973  re  i am zhendong  zhendong   thanks  please  ...     0          854\n",
       "3002  re  eprm  houston  layla   my associate  s nam...     0         2885\n",
       "3088  hello from enron  dear dr  mcmullen   a few we...     0          566\n",
       "3154  your approval is overdue  access request for  ...     0          360\n",
       "3165   special notification  aurora version    relea...     0         2252\n",
       "3241  research get  together at sandeep kohli  s new...     0          142\n",
       "3282  phone time  dear dr  kaminski  thanks for your...     0          427\n",
       "3302  term project   this is the list of projects fo...     0          556\n",
       "3344  re  enron visit   thanks  larry   i was thinki...     0         1117\n",
       "3932  request submitted  access request for anita  d...     0          418\n",
       "3987  re  interviews  vince   no problem  i know hr ...     0         1716\n",
       "4000  re  weather and energy price data  mulong wang...     0         2351\n",
       "4168  vp  director count for the research group  hel...     0          750\n",
       "4259  retail markets conference  i would like to inv...     0         1805\n",
       "4346  re  grades  pam   another group   stuart hamel...     0          409\n",
       "4366  request submitted  access request for anita  d...     0          418\n",
       "4399  request submitted  access request for anita  d...     0          418\n",
       "4481  june    retail electricity conference  dear wo...     0         1349\n",
       "5294  re  pserc industrial advisory board meeting in...     0         1548"
      ]
     },
     "execution_count": 23,
     "metadata": {},
     "output_type": "execute_result"
    }
   ],
   "source": [
    "#handle all duplicate values\n",
    "duplicate=email_data[email_data.duplicated(keep='last')]\n",
    "duplicate.head(42)"
   ]
  },
  {
   "cell_type": "code",
   "execution_count": 27,
   "id": "072648c6",
   "metadata": {},
   "outputs": [],
   "source": [
    "#Remove Duplicate Records\n",
    "email_data = email_data.drop_duplicates()"
   ]
  },
  {
   "cell_type": "markdown",
   "id": "5d0b3ced",
   "metadata": {},
   "source": [
    "Tokenization and stemming function"
   ]
  },
  {
   "cell_type": "code",
   "execution_count": 66,
   "id": "1cfb1c95",
   "metadata": {},
   "outputs": [],
   "source": [
    "def tokenize_and_stem(text):\n",
    "    stop_words = set(stopwords.words('english'))\n",
    "    stemmer = PorterStemmer()\n",
    "    words = text.split()\n",
    "    words = [stemmer.stem(word) for word in words if word not in stop_words]\n",
    "    return ' '.join(words)\n",
    "\n",
    "# Clean and process the email text\n",
    "email_data['text'] = email_data['text'].apply(clean_text).apply(tokenize_and_stem)"
   ]
  },
  {
   "cell_type": "code",
   "execution_count": 69,
   "id": "f8c93cf0",
   "metadata": {},
   "outputs": [],
   "source": [
    "vectorizer = TfidfVectorizer(max_features=5000)\n",
    "\n",
    "# Fit and transform the email texts\n",
    "tfidf_features = vectorizer.fit_transform(email_data['text'])\n"
   ]
  },
  {
   "cell_type": "code",
   "execution_count": 68,
   "id": "dbe099c1",
   "metadata": {},
   "outputs": [
    {
     "data": {
      "text/html": [
       "<div>\n",
       "<style scoped>\n",
       "    .dataframe tbody tr th:only-of-type {\n",
       "        vertical-align: middle;\n",
       "    }\n",
       "\n",
       "    .dataframe tbody tr th {\n",
       "        vertical-align: top;\n",
       "    }\n",
       "\n",
       "    .dataframe thead th {\n",
       "        text-align: right;\n",
       "    }\n",
       "</style>\n",
       "<table border=\"1\" class=\"dataframe\">\n",
       "  <thead>\n",
       "    <tr style=\"text-align: right;\">\n",
       "      <th></th>\n",
       "      <th>text</th>\n",
       "      <th>spam</th>\n",
       "      <th>text_length</th>\n",
       "    </tr>\n",
       "  </thead>\n",
       "  <tbody>\n",
       "    <tr>\n",
       "      <th>0</th>\n",
       "      <td>natur irresist corpor ident lt realli hard rec...</td>\n",
       "      <td>1</td>\n",
       "      <td>757</td>\n",
       "    </tr>\n",
       "    <tr>\n",
       "      <th>1</th>\n",
       "      <td>stock trade gunsl fanni merril muzo colza atta...</td>\n",
       "      <td>1</td>\n",
       "      <td>450</td>\n",
       "    </tr>\n",
       "    <tr>\n",
       "      <th>2</th>\n",
       "      <td>unbeliev new home made easi im want show homeo...</td>\n",
       "      <td>1</td>\n",
       "      <td>231</td>\n",
       "    </tr>\n",
       "    <tr>\n",
       "      <th>3</th>\n",
       "      <td>color print special request addit inform click...</td>\n",
       "      <td>1</td>\n",
       "      <td>282</td>\n",
       "    </tr>\n",
       "    <tr>\n",
       "      <th>4</th>\n",
       "      <td>money get softwar cd softwar compat great grow...</td>\n",
       "      <td>1</td>\n",
       "      <td>107</td>\n",
       "    </tr>\n",
       "    <tr>\n",
       "      <th>...</th>\n",
       "      <td>...</td>\n",
       "      <td>...</td>\n",
       "      <td>...</td>\n",
       "    </tr>\n",
       "    <tr>\n",
       "      <th>996</th>\n",
       "      <td>softwar system builder resel hardwar purcha ge...</td>\n",
       "      <td>1</td>\n",
       "      <td>132</td>\n",
       "    </tr>\n",
       "    <tr>\n",
       "      <th>997</th>\n",
       "      <td>fantast investor info maisonett intern enterpr...</td>\n",
       "      <td>1</td>\n",
       "      <td>1958</td>\n",
       "    </tr>\n",
       "    <tr>\n",
       "      <th>998</th>\n",
       "      <td>save money buy get thing tri ciall yet cannot ...</td>\n",
       "      <td>1</td>\n",
       "      <td>219</td>\n",
       "    </tr>\n",
       "    <tr>\n",
       "      <th>999</th>\n",
       "      <td>percent life insur get free quot instant quest...</td>\n",
       "      <td>1</td>\n",
       "      <td>934</td>\n",
       "    </tr>\n",
       "    <tr>\n",
       "      <th>1000</th>\n",
       "      <td>save money buy get thing tri ciall yet cannot ...</td>\n",
       "      <td>1</td>\n",
       "      <td>219</td>\n",
       "    </tr>\n",
       "  </tbody>\n",
       "</table>\n",
       "<p>1000 rows × 3 columns</p>\n",
       "</div>"
      ],
      "text/plain": [
       "                                                   text  spam  text_length\n",
       "0     natur irresist corpor ident lt realli hard rec...     1          757\n",
       "1     stock trade gunsl fanni merril muzo colza atta...     1          450\n",
       "2     unbeliev new home made easi im want show homeo...     1          231\n",
       "3     color print special request addit inform click...     1          282\n",
       "4     money get softwar cd softwar compat great grow...     1          107\n",
       "...                                                 ...   ...          ...\n",
       "996   softwar system builder resel hardwar purcha ge...     1          132\n",
       "997   fantast investor info maisonett intern enterpr...     1         1958\n",
       "998   save money buy get thing tri ciall yet cannot ...     1          219\n",
       "999   percent life insur get free quot instant quest...     1          934\n",
       "1000  save money buy get thing tri ciall yet cannot ...     1          219\n",
       "\n",
       "[1000 rows x 3 columns]"
      ]
     },
     "execution_count": 68,
     "metadata": {},
     "output_type": "execute_result"
    }
   ],
   "source": [
    "email_data.head(1000)"
   ]
  },
  {
   "cell_type": "code",
   "execution_count": null,
   "id": "1b3e0d35",
   "metadata": {},
   "outputs": [],
   "source": []
  },
  {
   "cell_type": "markdown",
   "id": "3072a72b",
   "metadata": {},
   "source": [
    "# MODEL TRAINING AND EVALUATION\n",
    "1.DATA PREPARATION"
   ]
  },
  {
   "cell_type": "code",
   "execution_count": 37,
   "id": "0b0e2e41",
   "metadata": {},
   "outputs": [],
   "source": [
    "vectorizer = TfidfVectorizer(max_features=5000)\n",
    "X = vectorizer.fit_transform(email_data['text'])\n",
    "y = email_data['spam']"
   ]
  },
  {
   "cell_type": "markdown",
   "id": "e94be661",
   "metadata": {},
   "source": [
    "TRAIN SPLIT"
   ]
  },
  {
   "cell_type": "code",
   "execution_count": 51,
   "id": "b2ee1920",
   "metadata": {},
   "outputs": [],
   "source": [
    "X_train, X_test, y_train, y_test = train_test_split(X, y, test_size=0.2, random_state=42)\n",
    "\n",
    "models = {\n",
    "    'Naive Bayes': MultinomialNB(),\n",
    "    'Logistic Regression': LogisticRegression(max_iter=1000),\n",
    "    'SVM': SVC(kernel='linear', probability=True),\n",
    "    'Random Forest': RandomForestClassifier(n_estimators=100)\n",
    "}\n"
   ]
  },
  {
   "cell_type": "markdown",
   "id": "d7d3ed12",
   "metadata": {},
   "source": [
    "MODEL EVALUATION "
   ]
  },
  {
   "cell_type": "code",
   "execution_count": 53,
   "id": "69b230fa",
   "metadata": {},
   "outputs": [
    {
     "name": "stdout",
     "output_type": "stream",
     "text": [
      "                     Accuracy  Precision    Recall  F1 Score\n",
      "Naive Bayes          0.981530   0.992832  0.935811  0.963478\n",
      "Logistic Regression  0.986807   0.992982  0.956081  0.974182\n",
      "SVM                  0.990325   0.993080  0.969595  0.981197\n",
      "Random Forest        0.978012   0.996337  0.918919  0.956063\n"
     ]
    }
   ],
   "source": [
    "results = {}\n",
    "for model_name, model in models.items():\n",
    "    model.fit(X_train, y_train)\n",
    "    y_pred = model.predict(X_test)\n",
    "    accuracy = accuracy_score(y_test, y_pred)\n",
    "    precision = precision_score(y_test, y_pred)\n",
    "    recall = recall_score(y_test, y_pred)\n",
    "    f1 = f1_score(y_test, y_pred)\n",
    "    results[model_name] = {\n",
    "        'Accuracy': accuracy,\n",
    "        'Precision': precision,\n",
    "        'Recall': recall,\n",
    "        'F1 Score': f1\n",
    "    }\n",
    "\n",
    "# Display results\n",
    "results_df = pd.DataFrame(results).T\n",
    "print(results_df)"
   ]
  },
  {
   "cell_type": "markdown",
   "id": "7a4e2322",
   "metadata": {},
   "source": [
    "Implementing the Filter"
   ]
  },
  {
   "cell_type": "code",
   "execution_count": 44,
   "id": "f459ab51",
   "metadata": {},
   "outputs": [
    {
     "name": "stdout",
     "output_type": "stream",
     "text": [
      "Spam\n"
     ]
    }
   ],
   "source": [
    "# Assuming Logistic Regression is the best model based on results\n",
    "best_model = LogisticRegression(max_iter=1000)\n",
    "best_model.fit(X_train, y_train)\n",
    "\n",
    "def predict_email(text):\n",
    "    processed_text = tokenize_and_stem(clean_text(text))\n",
    "    vectorized_text = vectorizer.transform([processed_text])\n",
    "    prediction = best_model.predict(vectorized_text)\n",
    "    return 'Spam' if prediction[0] == 1 else 'Ham'\n",
    "new_email = \"Subject: get rich quick by investing in our new scheme\"\n",
    "print(predict_email(new_email))"
   ]
  },
  {
   "cell_type": "markdown",
   "id": "ffa003b7",
   "metadata": {},
   "source": [
    "# VISUALISATION"
   ]
  },
  {
   "cell_type": "code",
   "execution_count": 42,
   "id": "58707510",
   "metadata": {},
   "outputs": [
    {
     "data": {
      "image/png": "[encoded data removed]",
      "text/plain": [
       "<Figure size 864x432 with 1 Axes>"
      ]
     },
     "metadata": {
      "needs_background": "light"
     },
     "output_type": "display_data"
    }
   ],
   "source": [
    "plt.figure(figsize=(12, 6))\n",
    "sns.barplot(x=results_df.index, y=results_df['Accuracy'], palette='viridis')\n",
    "plt.title('Model Accuracy Comparison')\n",
    "plt.ylabel('Accuracy')\n",
    "plt.xlabel('Models')\n",
    "plt.show()"
   ]
  },
  {
   "cell_type": "code",
   "execution_count": 48,
   "id": "f002a0ac",
   "metadata": {},
   "outputs": [
    {
     "data": {
      "image/png": "[encoded data removed]",
      "text/plain": [
       "<Figure size 1152x576 with 1 Axes>"
      ]
     },
     "metadata": {
      "needs_background": "light"
     },
     "output_type": "display_data"
    }
   ],
   "source": [
    "plt.figure(figsize=(16, 8))\n",
    "sns.barplot(x=results_df.index, y=results_df['Precision'], palette='viridis')\n",
    "plt.title('Model Precision Comparison')\n",
    "plt.ylabel('Precision')\n",
    "plt.xlabel('Models')\n",
    "plt.show()"
   ]
  },
  {
   "cell_type": "code",
   "execution_count": 49,
   "id": "af7485d0",
   "metadata": {},
   "outputs": [
    {
     "data": {
      "image/png": "[encoded data removed]",
      "text/plain": [
       "<Figure size 1152x576 with 1 Axes>"
      ]
     },
     "metadata": {
      "needs_background": "light"
     },
     "output_type": "display_data"
    }
   ],
   "source": [
    "plt.figure(figsize=(16, 8))\n",
    "sns.barplot(x=results_df.index, y=results_df['Recall'], palette='viridis')\n",
    "plt.title('Model Recall Comparison')\n",
    "plt.ylabel('Recall')\n",
    "plt.xlabel('Models')\n",
    "plt.show()\n"
   ]
  },
  {
   "cell_type": "code",
   "execution_count": 50,
   "id": "f01172b0",
   "metadata": {},
   "outputs": [
    {
     "data": {
      "image/png": "[encoded data removed]",
      "text/plain": [
       "<Figure size 1152x576 with 1 Axes>"
      ]
     },
     "metadata": {
      "needs_background": "light"
     },
     "output_type": "display_data"
    }
   ],
   "source": [
    "plt.figure(figsize=(16, 8))\n",
    "sns.barplot(x=results_df.index, y=results_df['F1 Score'], palette='viridis')\n",
    "plt.title('Model F1 Score Comparison')\n",
    "plt.ylabel('F1 Score')\n",
    "plt.xlabel('Models')\n",
    "plt.show()"
   ]
  },
  {
   "cell_type": "code",
   "execution_count": 46,
   "id": "dcad1589",
   "metadata": {},
   "outputs": [
    {
     "data": {
      "image/png": "[encoded data removed]",
      "text/plain": [
       "<Figure size 576x432 with 1 Axes>"
      ]
     },
     "metadata": {
      "needs_background": "light"
     },
     "output_type": "display_data"
    }
   ],
   "source": [
    "plt.figure(figsize=(8, 6))\n",
    "sns.countplot(x='spam', data=email_data, palette='viridis')\n",
    "plt.title('Distribution of Spam vs Not Spam Emails')\n",
    "plt.xlabel('Email Type (0: Not Spam, 1: Spam)')\n",
    "plt.ylabel('Count')\n",
    "plt.show()"
   ]
  },
  {
   "cell_type": "code",
   "execution_count": 47,
   "id": "c3136a17",
   "metadata": {},
   "outputs": [
    {
     "data": {
      "image/png": "[encoded data removed]",
      "text/plain": [
       "<Figure size 864x432 with 1 Axes>"
      ]
     },
     "metadata": {
      "needs_background": "light"
     },
     "output_type": "display_data"
    }
   ],
   "source": [
    "email_data['text_length'] = email_data['text'].apply(len)\n",
    "\n",
    "# the distribution of text length for spam and not spam emails\n",
    "plt.figure(figsize=(12, 6))\n",
    "sns.histplot(data=email_data, x='text_length', hue='spam', multiple='stack', palette='viridis')\n",
    "plt.title('Distribution of Email Text Length')\n",
    "plt.xlabel('Text Length')\n",
    "plt.ylabel('Count')\n",
    "plt.show()"
   ]
  },
  {
   "cell_type": "code",
   "execution_count": 54,
   "id": "203f24c1",
   "metadata": {},
   "outputs": [
    {
     "data": {
      "text/plain": [
       "['tfidf_vectorizer.pkl']"
      ]
     },
     "execution_count": 54,
     "metadata": {},
     "output_type": "execute_result"
    }
   ],
   "source": [
    "import joblib\n",
    "\n",
    "# Save the model\n",
    "joblib.dump(best_model, 'spam_classifier_model.pkl')\n",
    "\n",
    "# Save the vectorizer\n",
    "joblib.dump(vectorizer, 'tfidf_vectorizer.pkl')"
   ]
  },
  {
   "cell_type": "code",
   "execution_count": 55,
   "id": "a1aa9815",
   "metadata": {},
   "outputs": [
    {
     "name": "stdout",
     "output_type": "stream",
     "text": [
      "Ham\n"
     ]
    }
   ],
   "source": [
    "loaded_model = joblib.load('spam_classifier_model.pkl')\n",
    "\n",
    "# Load the vectorizer\n",
    "loaded_vectorizer = joblib.load('tfidf_vectorizer.pkl')\n",
    "\n",
    "# Function to predict whether an email is spam or ham using loaded model\n",
    "def predict_email_with_loaded_model(text):\n",
    "    processed_text = tokenize_and_stem(clean_text(text))\n",
    "    vectorized_text = loaded_vectorizer.transform([processed_text])\n",
    "    prediction = loaded_model.predict(vectorized_text)\n",
    "    return 'Spam' if prediction[0] == 1 else 'Ham'\n",
    "\n",
    "# Example usage\n",
    "new_email = \"Subject: congratulations! you've won a prize\"\n",
    "print(predict_email_with_loaded_model(new_email))"
   ]
  },
  {
   "cell_type": "markdown",
   "id": "05069e2a",
   "metadata": {},
   "source": [
    "# Process Overview"
   ]
  },
  {
   "cell_type": "markdown",
   "id": "fd03d19a",
   "metadata": {},
   "source": [
    "Text Preprocessing:\n",
    "The email text is cleaned and processed."
   ]
  },
  {
   "cell_type": "markdown",
   "id": "8212a476",
   "metadata": {},
   "source": [
    "Vectorization: The processed text is transformed into a numerical representation using TF-IDF."
   ]
  },
  {
   "cell_type": "markdown",
   "id": "ff022340",
   "metadata": {},
   "source": [
    "Model Prediction: The vectorized text is passed through a trained machine learning model to get the prediction."
   ]
  },
  {
   "cell_type": "markdown",
   "id": "1ef29bb0",
   "metadata": {},
   "source": [
    "Output: The system outputs whether the email is classified as spam or ham based on the model's prediction."
   ]
  },
  {
   "cell_type": "markdown",
   "id": "19cd0a9f",
   "metadata": {},
   "source": [
    "This comprehensive approach ensures that the system can effectively distinguish between spam and ham emails based on the learned patterns from the training data."
   ]
  },
  {
   "cell_type": "code",
   "execution_count": 60,
   "id": "137aaddb",
   "metadata": {},
   "outputs": [
    {
     "name": "stdout",
     "output_type": "stream",
     "text": [
      "END!\n"
     ]
    }
   ],
   "source": [
    "print(\"END!\")"
   ]
  },
  {
   "cell_type": "code",
   "execution_count": null,
   "id": "b2f8b0e6",
   "metadata": {},
   "outputs": [],
   "source": []
  }
 ],
 "metadata": {
  "kernelspec": {
   "display_name": "Python 3",
   "language": "python",
   "name": "python3"
  },
  "language_info": {
   "codemirror_mode": {
    "name": "ipython",
    "version": 3
   },
   "file_extension": ".py",
   "mimetype": "text/x-python",
   "name": "python",
   "nbconvert_exporter": "python",
   "pygments_lexer": "ipython3",
   "version": "3.8.8"
  }
 },
 "nbformat": 4,
 "nbformat_minor": 5
}
